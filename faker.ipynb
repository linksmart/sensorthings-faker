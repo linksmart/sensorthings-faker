{
 "cells": [
  {
   "cell_type": "code",
   "execution_count": 71,
   "metadata": {},
   "outputs": [],
   "source": [
    "import requests\n",
    "import json\n",
    "import random"
   ]
  },
  {
   "cell_type": "code",
   "execution_count": 100,
   "metadata": {},
   "outputs": [],
   "source": [
    "class Faker:\n",
    "    def __init__(self):\n",
    "        self.headers = {'Content-type': 'application/json; charset=utf-8'}\n",
    "        print \"init\"\n",
    "        \n",
    "    def create_location(self,data):\n",
    "        headers = {'Content-type': 'application/json; charset=utf-8'}\n",
    "        response = requests.post('http://localhost:8080/v1.0/Locations',headers=headers,json=data)\n",
    "        \n",
    "    def delete_location(self,location_id):\n",
    "        response = requests.delete('http://localhost:8080/v1.0/Locations('+location_id+')')   \n",
    "    \n",
    "    def create_locations(self):\n",
    "        print \"creating locations started\"\n",
    "        \n",
    "        with open('locations.json') as data_file:    \n",
    "            locations = json.load(data_file)\n",
    "            for location in locations:\n",
    "                if not self.has_location(location['name']):\n",
    "                    headers = {'Content-type': 'application/json; charset=utf-8'}\n",
    "                    response = requests.post('http://localhost:8080/v1.0/Locations',headers=headers,json=location)\n",
    "                    \n",
    "        print \"creating locations finished\"\n",
    "                    \n",
    "    def has_location(self,location_name):\n",
    "        response = requests.get(\"http://localhost:8080/v1.0/Locations?$filter=name eq '\" + location_name + \"'\")\n",
    "        count = len(response.json()['value'])\n",
    "        return True if (count >= 1) else False\n",
    "    \n",
    "    def has_thing(self,thing_name):\n",
    "        response = requests.get(\"http://localhost:8080/v1.0/Things?$filter=name eq '\" + thing_name + \"'\")\n",
    "        count = len(response.json()['value'])\n",
    "        return True if (count >= 1) else False\n",
    "    \n",
    "    def create_thing(self):\n",
    "\n",
    "        thing = {\n",
    "          \"name\": \"Vehicle \" + self.random_string(),\n",
    "          \"description\": \"Local shuttle\",\n",
    "        }\n",
    "        \n",
    "        return requests.post('http://localhost:8080/v1.0/Things',headers=self.headers,json=thing)\n",
    "\n",
    "    def create_sensor(self,sensor):       \n",
    "#         temperature_sensor = {\n",
    "#           \"name\": \"Temperature \" + self.random_string(),\n",
    "#           \"description\": \"Measures temperature inside vehicle\",\n",
    "#           \"encodingType\": \"application/pdf\",\n",
    "#           \"metadata\": \"demo\"\n",
    "#         }\n",
    "#         speed_sensor = {\n",
    "#           \"name\": \"Speed \" + self.random_string(),\n",
    "#           \"description\": \"Measures Speed of the vehicle\",\n",
    "#           \"encodingType\": \"application/pdf\",\n",
    "#           \"metadata\": \"demo\"\n",
    "#         }\n",
    "        \n",
    "        return requests.post('http://localhost:8080/v1.0/Sensors',headers=self.headers,json=sensor)\n",
    "#         response = requests.post('http://localhost:8080/v1.0/Sensors',headers=self.headers,json=speed_sensor)\n",
    "        \n",
    "    def create_observed_property(self):\n",
    "\n",
    "        observed_property = {\n",
    "          \"name\": \"Demo observed property\" + self.random_string(),\n",
    "          \"description\": \"Demo observed property\",\n",
    "          \"definition\": \"Demo definition\"\n",
    "        }\n",
    "        \n",
    "        return requests.post('http://localhost:8080/v1.0/ObservedProperties',headers=self.headers,json=observed_property)    \n",
    "\n",
    "    def create_datastream(self,datastream):\n",
    "        return requests.post('http://localhost:8080/v1.0/Datastreams',headers=self.headers,json=datastream)    \n",
    "        \n",
    "    def random_string(self):\n",
    "        return ('%06x' % random.randrange(16**6)).upper()\n",
    "    \n",
    "    def seed_observations(self):\n",
    "        \n",
    "        # create a thing\n",
    "        thing_id = self.create_thing().json()['@iot.id']\n",
    "        \n",
    "        # create a temperature sensor\n",
    "        temperature_sensor = {\n",
    "          \"name\": \"Temperature \" + self.random_string(),\n",
    "          \"description\": \"Measures temperature inside vehicle\",\n",
    "          \"encodingType\": \"application/pdf\",\n",
    "          \"metadata\": \"demo\"\n",
    "        }        \n",
    "        temperature_sensor_id = self.create_sensor(temperature_sensor).json()['@iot.id']\n",
    "        \n",
    "        # create an observed property for temperature reading\n",
    "        temperature_observed_property_id = self.create_observed_property().json()['@iot.id']\n",
    "        \n",
    "        #create datastream for temperature sensor\n",
    "        temperature_datastream = {\n",
    "          \"name\": \"Air Temperature DS \" + self.random_string(),\n",
    "          \"description\": \"Datastream for recording temperature\",\n",
    "          \"observationType\": \"http://www.opengis.net/def/observationType/OGC-OM/2.0/OM_Measurement\",\n",
    "          \"unitOfMeasurement\": {\n",
    "            \"name\": \"Degree Celsius\",\n",
    "            \"symbol\": \"degC\",\n",
    "            \"definition\": \"http://www.qudt.org/qudt/owl/1.0.0/unit/Instances.html#DegreeCelsius\"\n",
    "          },\n",
    "          \"Thing\":{\"@iot.id\":thing_id},\n",
    "          \"ObservedProperty\":{\"@iot.id\":temperature_observed_property_id},\n",
    "          \"Sensor\":{\"@iot.id\":temperature_sensor_id}\n",
    "        }\n",
    "        \n",
    "        print self.create_datastream(temperature_datastream).json()\n",
    "        \n",
    "        # create a Speedometer sensor\n",
    "        speed_sensor = {\n",
    "          \"name\": \"Speed \" + self.random_string(),\n",
    "          \"description\": \"Measures Speed of the vehicle\",\n",
    "          \"encodingType\": \"application/pdf\",\n",
    "          \"metadata\": \"demo\"\n",
    "        }\n",
    "        speed_sensor_id = self.create_sensor(speed_sensor).json()['@iot.id']\n",
    "        \n",
    "        # create an observed property for speedometer reading\n",
    "        speed_observed_property_id = self.create_observed_property().json()['@iot.id']\n",
    "        \n",
    "        #create datastream for speedometer sensor\n",
    "        speed_datastream = {\n",
    "          \"name\": \"Speedometer DS \" + self.random_string(),\n",
    "          \"description\": \"Measures speed of vehicle\",\n",
    "          \"observationType\": \"http://www.opengis.net/def/observationType/OGC-OM/2.0/OM_Measurement\",\n",
    "          \"unitOfMeasurement\": {\n",
    "            \"name\": \"Km\",\n",
    "            \"symbol\": \"Km\",\n",
    "            \"definition\": \"Demo definition\"\n",
    "          },\n",
    "          \"Thing\":{\"@iot.id\":thing_id},\n",
    "          \"ObservedProperty\":{\"@iot.id\":speed_observed_property_id},\n",
    "          \"Sensor\":{\"@iot.id\":speed_sensor_id}\n",
    "        }\n",
    "        \n",
    "        print self.create_datastream(speed_datastream).json()\n",
    "        \n",
    "        \n",
    "        "
   ]
  },
  {
   "cell_type": "code",
   "execution_count": 84,
   "metadata": {},
   "outputs": [
    {
     "data": {
      "text/plain": [
       "'441538'"
      ]
     },
     "execution_count": 84,
     "metadata": {},
     "output_type": "execute_result"
    }
   ],
   "source": []
  },
  {
   "cell_type": "code",
   "execution_count": 11,
   "metadata": {},
   "outputs": [
    {
     "data": {
      "text/plain": [
       "u'{\\n   \"@iot.id\": 6,\\n   \"@iot.selfLink\": \"http://localhost:8080/v1.0/Locations(6)\",\\n   \"name\": \"Checkpoint 3\",\\n   \"description\": \"Checkpoint 3\",\\n   \"encodingType\": \"application/vnd.geo+json\",\\n   \"location\": {\\n      \"coordinates\": [\\n         50.749342,\\n         7.196345\\n      ],\\n      \"type\": \"Point\"\\n   },\\n   \"Things@iot.navigationLink\": \"http://localhost:8080/v1.0/Locations(6)/Things\",\\n   \"HistoricalLocations@iot.navigationLink\": \"http://localhost:8080/v1.0/Locations(6)/HistoricalLocations\"\\n}'"
      ]
     },
     "execution_count": 11,
     "metadata": {},
     "output_type": "execute_result"
    }
   ],
   "source": [
    "data = {\n",
    "  \"name\": \"Checkpoint 3\",\n",
    "  \"description\": \"Checkpoint 3\",\n",
    "  \"encodingType\": \"application/vnd.geo+json\",\n",
    "  \"location\": {\"type\": \"Point\",\"coordinates\": [50.749342, 7.196345]}\n",
    "}\n",
    "\n",
    "r = requests.post('http://localhost:8080/v1.0/Locations',headers=headers,json=data)\n",
    "r.text"
   ]
  },
  {
   "cell_type": "code",
   "execution_count": 15,
   "metadata": {},
   "outputs": [
    {
     "data": {
      "text/plain": [
       "<Response [404]>"
      ]
     },
     "execution_count": 15,
     "metadata": {},
     "output_type": "execute_result"
    }
   ],
   "source": [
    "r = requests.delete('http://localhost:8080/v1.0/Locations(6)')\n",
    "r"
   ]
  },
  {
   "cell_type": "code",
   "execution_count": 101,
   "metadata": {},
   "outputs": [
    {
     "name": "stdout",
     "output_type": "stream",
     "text": [
      "init\n",
      "creating locations started\n",
      "creating locations finished\n"
     ]
    }
   ],
   "source": [
    "faker = Faker()\n",
    "faker.create_locations()\n",
    "faker.seed_observations()\n",
    "# faker.create_thing().json()['@iot.id']\n",
    "# faker.create_sensor()\n",
    "# faker.run_seeder()"
   ]
  },
  {
   "cell_type": "code",
   "execution_count": 50,
   "metadata": {},
   "outputs": [
    {
     "name": "stdout",
     "output_type": "stream",
     "text": [
      "True\n",
      "True\n",
      "True\n",
      "True\n",
      "True\n",
      "True\n",
      "True\n",
      "True\n",
      "True\n",
      "True\n",
      "True\n",
      "True\n",
      "True\n",
      "True\n"
     ]
    }
   ],
   "source": [
    "\n",
    "with open('locations.json') as data_file:    \n",
    "    locations = json.load(data_file)\n",
    "    for location in locations:\n",
    "        if requestHandler.has_location(location['name']):\n",
    "            headers = {'Content-type': 'application/json; charset=utf-8'}\n",
    "            response = requests.post('http://localhost:8080/v1.0/Locations',headers=headers,json=location)\n",
    "#         print response.text"
   ]
  },
  {
   "cell_type": "code",
   "execution_count": 47,
   "metadata": {},
   "outputs": [
    {
     "name": "stdout",
     "output_type": "stream",
     "text": [
      "1\n"
     ]
    }
   ],
   "source": [
    "response = requests.get(\"http://localhost:8080/v1.0/Locations?$filter=name eq '\" + \"Hangelor Ost\" + \"'\")\n",
    "print len(response.json()['value'])"
   ]
  }
 ],
 "metadata": {
  "kernelspec": {
   "display_name": "Python 2",
   "language": "python",
   "name": "python2"
  },
  "language_info": {
   "codemirror_mode": {
    "name": "ipython",
    "version": 2
   },
   "file_extension": ".py",
   "mimetype": "text/x-python",
   "name": "python",
   "nbconvert_exporter": "python",
   "pygments_lexer": "ipython2",
   "version": "2.7.15"
  }
 },
 "nbformat": 4,
 "nbformat_minor": 2
}
